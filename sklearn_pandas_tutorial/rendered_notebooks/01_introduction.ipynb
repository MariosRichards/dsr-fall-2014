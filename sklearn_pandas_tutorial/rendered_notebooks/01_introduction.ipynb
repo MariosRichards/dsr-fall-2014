{
 "metadata": {
  "name": "01_introduction"
 },
 "nbformat": 3,
 "nbformat_minor": 0,
 "worksheets": [
  {
   "cells": [
    {
     "cell_type": "heading",
     "level": 1,
     "metadata": {},
     "source": [
      "What is machine learning?"
     ]
    },
    {
     "cell_type": "markdown",
     "metadata": {},
     "source": [
      "In this section we will begin to explore the basic principles of machine learning.\n",
      "Machine Learning is about building programs with **tunable parameters** (typically an\n",
      "array of floating point values) that are adjusted automatically so as to improve\n",
      "their behavior by **adapting to previously seen data.**\n",
      "\n",
      "Machine Learning can be considered a subfield of **Artificial Intelligence** since those\n",
      "algorithms can be seen as building blocks to make computers learn to behave more\n",
      "intelligently by somehow **generalizing** rather that just storing and retrieving data items\n",
      "like a database system would do.\n",
      "\n",
      "We'll take a look at two very simple machine learning tasks here.\n",
      "The first is a **classification** task: the figure shows a\n",
      "collection of two-dimensional data, colored according to two different class\n",
      "labels. A classification algorithm may be used to draw a dividing boundary\n",
      "between the two clusters of points:"
     ]
    },
    {
     "cell_type": "code",
     "collapsed": false,
     "input": [
      "# Start pylab inline mode, so figures will appear in the notebook\n",
      "%matplotlib inline"
     ],
     "language": "python",
     "metadata": {},
     "outputs": [],
     "prompt_number": 0
    },
    {
     "cell_type": "code",
     "collapsed": false,
     "input": [
      "# Import the example plot from the figures directory\n",
      "from figures import plot_sgd_separator\n",
      "plot_sgd_separator()"
     ],
     "language": "python",
     "metadata": {},
     "outputs": [
      {
       "output_type": "display_data",
       "png": "[encoded data removed]",
       "text": [
        "<matplotlib.figure.Figure at 0x2aec1057d3d0>"
       ]
      }
     ],
     "prompt_number": 1
    },
    {
     "cell_type": "markdown",
     "metadata": {},
     "source": [
      "This may seem like a trivial task, but it is a simple version of a very important concept.\n",
      "By drawing this separating line, we have learned a model which can **generalize** to new\n",
      "data: if you were to drop another point onto the plane which is unlabeled, this algorithm\n",
      "could now **predict** whether it's a blue or a red point.\n",
      "\n",
      "If you'd like to see the source code used to generate this, you can either open the\n",
      "code in the `figures` directory, or you can load the code using the `%load` magic command:"
     ]
    },
    {
     "cell_type": "code",
     "collapsed": false,
     "input": [
      "%load figures/sgd_separator.py"
     ],
     "language": "python",
     "metadata": {},
     "outputs": [],
     "prompt_number": 2
    },
    {
     "cell_type": "code",
     "collapsed": false,
     "input": [],
     "language": "python",
     "metadata": {},
     "outputs": [],
     "prompt_number": 3
    },
    {
     "cell_type": "markdown",
     "metadata": {},
     "source": [
      "The next simple task we'll look at is a **regression** task: a simple best-fit line\n",
      "to a set of data:"
     ]
    },
    {
     "cell_type": "code",
     "collapsed": false,
     "input": [
      "from figures import plot_linear_regression\n",
      "plot_linear_regression()"
     ],
     "language": "python",
     "metadata": {},
     "outputs": [
      {
       "output_type": "display_data",
       "png": "[encoded data removed]",
       "text": [
        "<matplotlib.figure.Figure at 0x2aebefb1c790>"
       ]
      }
     ],
     "prompt_number": 4
    },
    {
     "cell_type": "markdown",
     "metadata": {},
     "source": [
      "Again, this is an example of fitting a model to data, such that the model can make\n",
      "generalizations about new data.  The model has been **learned** from the training\n",
      "data, and can be used to predict the result of test data:\n",
      "here, we might be given an x-value, and the model would\n",
      "allow us to predict the y value.  Again, this might seem like a trivial problem,\n",
      "but it is a basic example of a type of operation that is fundamental to\n",
      "machine learning tasks."
     ]
    },
    {
     "cell_type": "heading",
     "level": 1,
     "metadata": {},
     "source": [
      "An Overview of Scikit-learn"
     ]
    },
    {
     "cell_type": "markdown",
     "metadata": {},
     "source": [
      "*Adapted from* [*http://scikit-learn.org/stable/tutorial/basic/tutorial.html*](http://scikit-learn.org/stable/tutorial/basic/tutorial.html)"
     ]
    },
    {
     "cell_type": "code",
     "collapsed": false,
     "input": [
      "%matplotlib inline\n",
      "import numpy as np\n",
      "from matplotlib import pyplot as plt"
     ],
     "language": "python",
     "metadata": {},
     "outputs": [],
     "prompt_number": 5
    },
    {
     "cell_type": "heading",
     "level": 2,
     "metadata": {},
     "source": [
      "Loading an Example Dataset"
     ]
    },
    {
     "cell_type": "code",
     "collapsed": false,
     "input": [
      "from sklearn import datasets\n",
      "digits = datasets.load_digits()"
     ],
     "language": "python",
     "metadata": {},
     "outputs": [],
     "prompt_number": 6
    },
    {
     "cell_type": "code",
     "collapsed": false,
     "input": [
      "digits.data"
     ],
     "language": "python",
     "metadata": {},
     "outputs": [
      {
       "output_type": "pyout",
       "prompt_number": 8,
       "text": [
        "array([[  0.,   0.,   5., ...,   0.,   0.,   0.],\n",
        "       [  0.,   0.,   0., ...,  10.,   0.,   0.],\n",
        "       [  0.,   0.,   0., ...,  16.,   9.,   0.],\n",
        "       ..., \n",
        "       [  0.,   0.,   1., ...,   6.,   0.,   0.],\n",
        "       [  0.,   0.,   2., ...,  12.,   0.,   0.],\n",
        "       [  0.,   0.,  10., ...,  12.,   1.,   0.]])"
       ]
      }
     ],
     "prompt_number": 7
    },
    {
     "cell_type": "code",
     "collapsed": false,
     "input": [
      "digits.target"
     ],
     "language": "python",
     "metadata": {},
     "outputs": [
      {
       "output_type": "pyout",
       "prompt_number": 9,
       "text": [
        "array([0, 1, 2, ..., 8, 9, 8])"
       ]
      }
     ],
     "prompt_number": 8
    },
    {
     "cell_type": "code",
     "collapsed": false,
     "input": [
      "digits.images[0]"
     ],
     "language": "python",
     "metadata": {},
     "outputs": [
      {
       "output_type": "pyout",
       "prompt_number": 10,
       "text": [
        "array([[  0.,   0.,   5.,  13.,   9.,   1.,   0.,   0.],\n",
        "       [  0.,   0.,  13.,  15.,  10.,  15.,   5.,   0.],\n",
        "       [  0.,   3.,  15.,   2.,   0.,  11.,   8.,   0.],\n",
        "       [  0.,   4.,  12.,   0.,   0.,   8.,   8.,   0.],\n",
        "       [  0.,   5.,   8.,   0.,   0.,   9.,   8.,   0.],\n",
        "       [  0.,   4.,  11.,   0.,   1.,  12.,   7.,   0.],\n",
        "       [  0.,   2.,  14.,   5.,  10.,  12.,   0.,   0.],\n",
        "       [  0.,   0.,   6.,  13.,  10.,   0.,   0.,   0.]])"
       ]
      }
     ],
     "prompt_number": 9
    },
    {
     "cell_type": "heading",
     "level": 2,
     "metadata": {},
     "source": [
      "Learning and Predicting"
     ]
    },
    {
     "cell_type": "code",
     "collapsed": false,
     "input": [
      "from sklearn import svm\n",
      "clf = svm.SVC(gamma=0.001, C=100.)"
     ],
     "language": "python",
     "metadata": {},
     "outputs": [],
     "prompt_number": 10
    },
    {
     "cell_type": "code",
     "collapsed": false,
     "input": [
      "clf.fit(digits.data[:-1], digits.target[:-1])"
     ],
     "language": "python",
     "metadata": {},
     "outputs": [
      {
       "output_type": "pyout",
       "prompt_number": 12,
       "text": [
        "SVC(C=100.0, cache_size=200, class_weight=None, coef0=0.0, degree=3,\n",
        "  gamma=0.001, kernel='rbf', max_iter=-1, probability=False,\n",
        "  random_state=None, shrinking=True, tol=0.001, verbose=False)"
       ]
      }
     ],
     "prompt_number": 11
    },
    {
     "cell_type": "code",
     "collapsed": false,
     "input": [
      "clf.predict(digits.data[-1])"
     ],
     "language": "python",
     "metadata": {},
     "outputs": [
      {
       "output_type": "pyout",
       "prompt_number": 13,
       "text": [
        "array([8])"
       ]
      }
     ],
     "prompt_number": 12
    },
    {
     "cell_type": "code",
     "collapsed": false,
     "input": [
      "plt.figure(figsize=(2, 2))\n",
      "plt.imshow(digits.images[-1], interpolation='nearest', cmap=plt.cm.binary)"
     ],
     "language": "python",
     "metadata": {},
     "outputs": [
      {
       "output_type": "pyout",
       "prompt_number": 14,
       "text": [
        "<matplotlib.image.AxesImage at 0x2aec1926b690>"
       ]
      },
      {
       "output_type": "display_data",
       "png": "[encoded data removed]",
       "text": [
        "<matplotlib.figure.Figure at 0x2aec1914a910>"
       ]
      }
     ],
     "prompt_number": 13
    },
    {
     "cell_type": "code",
     "collapsed": false,
     "input": [
      "print(digits.target[-1])"
     ],
     "language": "python",
     "metadata": {},
     "outputs": [
      {
       "output_type": "stream",
       "stream": "stdout",
       "text": [
        "8\n"
       ]
      }
     ],
     "prompt_number": 14
    },
    {
     "cell_type": "code",
     "collapsed": false,
     "input": [],
     "language": "python",
     "metadata": {},
     "outputs": [],
     "prompt_number": 15
    }
   ],
   "metadata": {}
  }
 ]
}